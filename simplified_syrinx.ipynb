{
 "cells": [
  {
   "cell_type": "markdown",
   "metadata": {},
   "source": [
    "# Implementing and fitting a simple syrinx model\n",
    "\n",
    "Model based on [Mindlin et al., 2003](https://journals.aps.org/pre/abstract/10.1103/PhysRevE.68.041908). "
   ]
  },
  {
   "cell_type": "markdown",
   "metadata": {},
   "source": [
    "We want to fit the system of first-order nonlinear equations:\n",
    "\n",
    "$$\n",
    "\\dot{x} = y \\\\\n",
    "\\dot{y} = -\\epsilon x - C x^2 y + By - D_0\n",
    "$$\n",
    "where\n",
    "$$\n",
    "\\epsilon = \\epsilon_1 + \\epsilon_2 K(t) \\\\\n",
    "B = \\beta_1 + \\beta_2 P(t) \\\\\n",
    "D_0 = \\delta D(t)\n",
    "$$\n",
    "and $K(t)$, $D(t)$, and $P(t)$ are the (linear envelopes of) tension in the ventral syringeal muscle (vS), the tracheobronchialis dorsalis (dTB), and sub-syringeal air pressure, respectively."
   ]
  },
  {
   "cell_type": "markdown",
   "metadata": {},
   "source": [
    "From the original paper, we take parameter values\n",
    "$$\n",
    "\\epsilon_1 = 1.25 \\times 10^8 \\, \\mathrm{s}^{-2} \\\\\n",
    "\\epsilon_2 = 7.5 \\times 10^9 \\, \\mathrm{V}^{-1}\\cdot \\mathrm{s}^{-2} \\\\\n",
    "C = 2 \\times 10^8 \\, \\mathrm{cm}^{-2} \\cdot \\mathrm{s}^{-1} \\\\\n",
    "\\beta_1 = -2 \\times 10^3 \\, \\mathrm{s}^{-1} \\\\\n",
    "\\beta_2 = 5.3 \\times 10^4 \\, \\mathrm{V}^{-1}\\cdot \\mathrm{s}^{-1} \\\\\n",
    "\\delta = 15 \\times 10^6 \\, \\mathrm{cm}\\cdot\\mathrm{V}^{-1} \\cdot \\mathrm{s}^{-2}\n",
    "$$"
   ]
  },
  {
   "cell_type": "code",
   "execution_count": null,
   "metadata": {},
   "outputs": [],
   "source": [
    "eps1 = 1.25e8\n",
    "eps2 = 7.5e9\n",
    "C = 2e8\n",
    "beta1 = -2e3\n",
    "beta2 = 5.3e4\n",
    "delta = 15e6"
   ]
  },
  {
   "cell_type": "markdown",
   "metadata": {},
   "source": [
    "But whereas the original paper used measured values for $K$, $P$, and $D$, we use simpler time series constructed to have the same shape:"
   ]
  },
  {
   "cell_type": "code",
   "execution_count": null,
   "metadata": {},
   "outputs": [],
   "source": [
    "import numpy as np\n",
    "import matplotlib.pyplot as plt\n",
    "\n",
    "%config InlineBackend.figure_format = 'retina'\n",
    "plt.rcParams.update({\n",
    "    \"text.usetex\": True,\n",
    "    \"font.family\": \"Helvetica\"\n",
    "})"
   ]
  },
  {
   "cell_type": "code",
   "execution_count": null,
   "metadata": {},
   "outputs": [],
   "source": [
    "sr = 4e4  # data sampling rate (Hz)\n",
    "T = 2\n",
    "t_axis = np.arange(0, T, 1/sr)"
   ]
  },
  {
   "cell_type": "code",
   "execution_count": null,
   "metadata": {},
   "outputs": [],
   "source": [
    "def make_pulse_sequence(fn, locs):\n",
    "    return lambda t: np.sum([fn(t, loc) for loc in locs])"
   ]
  },
  {
   "cell_type": "code",
   "execution_count": null,
   "metadata": {},
   "outputs": [],
   "source": [
    "def make_pressure_pulse(loc, freq, amp, cutoff, dc):\n",
    "    fn = lambda t: amp * np.maximum(np.sin(2 * np.pi * freq * (t - loc)), cutoff) + dc \n",
    "    return fn\n",
    "\n",
    "pfreq = 2  # pressure pulse frequency (Hz)\n",
    "pA = 0.015  # pressure amplitude (Volts)\n",
    "p0 = 0.0  # pressure DC offset (Volts)\n",
    "pcutoff = -.7\n",
    "ploc = 3/16\n",
    "P = make_pressure_pulse(ploc, pfreq, pA, pcutoff, p0)\n",
    "\n",
    "plt.plot(t_axis, P(t_axis))"
   ]
  },
  {
   "cell_type": "code",
   "execution_count": null,
   "metadata": {},
   "outputs": [],
   "source": [
    "def make_tension_pulse_fn(shape=1, scale=1, peak=1):\n",
    "    norm = peak * np.exp(shape - shape * np.log(shape) - shape * np.log(scale)) \n",
    "\n",
    "    fn = lambda t, loc: norm * np.exp((t - loc)/scale) * np.maximum((loc - t), 0)**shape \n",
    "\n",
    "    return fn\n",
    "    \n",
    "        \n",
    "kshape = 5  # shape parameter of gamma function\n",
    "kscale = 0.025  # rate parameter of gamma function (s)\n",
    "kpeak = 0.06  # peak value (Volts)\n",
    "\n",
    "\n",
    "pulse = make_tension_pulse_fn(shape=kshape, scale=kscale, peak=kpeak)\n",
    "K = np.vectorize(make_pulse_sequence(pulse, [0, 0.5, 1, 1.5]))\n"
   ]
  },
  {
   "cell_type": "code",
   "execution_count": null,
   "metadata": {},
   "outputs": [],
   "source": [
    "dfreq = 2 \n",
    "dlocs1 = np.arange(0.1, t_axis[-1], 1/dfreq)  # pressure pulse frequency (Hz)\n",
    "dlocs2 = np.arange(0.45, t_axis[-1], 1/dfreq)  # pressure pulse frequency (Hz)\n",
    "dlocs = np.sort(np.concatenate([dlocs1, dlocs2]))\n",
    "dA = 0.05\n",
    "dwid = 0.01\n",
    "\n",
    "gpulse = lambda t, loc=0: dA * np.exp(-0.5 * (t - loc)**2/dwid**2)\n",
    "\n",
    "D = np.vectorize(make_pulse_sequence(gpulse, dlocs))\n"
   ]
  },
  {
   "cell_type": "code",
   "execution_count": null,
   "metadata": {},
   "outputs": [],
   "source": [
    "plt.plot(t_axis, K(t_axis), label='K')\n",
    "plt.plot(t_axis, D(t_axis), label='D')\n",
    "plt.plot(t_axis, P(t_axis), label='P')\n",
    "plt.xlabel(\"time (s)\")\n",
    "plt.ylabel(\"envelope (V)\")\n",
    "plt.xlim([0, 1])\n",
    "plt.legend();"
   ]
  },
  {
   "cell_type": "markdown",
   "metadata": {},
   "source": [
    "Now let's define and integrate the ODE:"
   ]
  },
  {
   "cell_type": "code",
   "execution_count": null,
   "metadata": {},
   "outputs": [],
   "source": [
    "from scipy.integrate import solve_ivp"
   ]
  },
  {
   "cell_type": "code",
   "execution_count": null,
   "metadata": {},
   "outputs": [],
   "source": [
    "def gradfun(t, y, K, D, P):\n",
    "    eps = eps1 + eps2 * K(t)\n",
    "    B = beta1 + beta2 * P(t) * 10\n",
    "    D = delta * D(t)\n",
    "\n",
    "    xdot = y[1]\n",
    "    ydot = -eps * y[0] - C * y[0]**2 * y[1] + B * y[1] - D\n",
    "\n",
    "    return (xdot, ydot)"
   ]
  },
  {
   "cell_type": "code",
   "execution_count": null,
   "metadata": {},
   "outputs": [],
   "source": [
    "soln = solve_ivp(gradfun, (0, 1), (0, 0), args=(K, D, P), first_step=0.5/sr)\n",
    "print(soln.status, soln.message)"
   ]
  },
  {
   "cell_type": "code",
   "execution_count": null,
   "metadata": {},
   "outputs": [],
   "source": [
    "plt.plot(soln.t, soln.y[0])"
   ]
  },
  {
   "cell_type": "code",
   "execution_count": null,
   "metadata": {},
   "outputs": [],
   "source": [
    "D0 = 10 * delta * 0.06\n",
    "B0 = beta1 + beta2 * 0.015 \n",
    "eps0 = eps1 + eps2 * 0.05\n",
    "\n",
    "print(D0, B0, eps0, eps0 * np.sqrt(B0/C))"
   ]
  },
  {
   "cell_type": "code",
   "execution_count": null,
   "metadata": {},
   "outputs": [],
   "source": [
    "plt.plot(t_axis, (beta1 + beta2 * P(t_axis) * 10)**2)\n",
    "plt.plot(t_axis, eps1 + eps2 * K(t_axis))"
   ]
  }
 ],
 "metadata": {
  "kernelspec": {
   "display_name": "syrinx",
   "language": "python",
   "name": "python3"
  },
  "language_info": {
   "codemirror_mode": {
    "name": "ipython",
    "version": 3
   },
   "file_extension": ".py",
   "mimetype": "text/x-python",
   "name": "python",
   "nbconvert_exporter": "python",
   "pygments_lexer": "ipython3",
   "version": "3.10.12"
  },
  "orig_nbformat": 4
 },
 "nbformat": 4,
 "nbformat_minor": 2
}
